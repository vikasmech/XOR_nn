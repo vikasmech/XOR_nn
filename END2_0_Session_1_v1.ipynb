{
  "nbformat": 4,
  "nbformat_minor": 0,
  "metadata": {
    "colab": {
      "name": "END2.0 Session 1 v1.ipynb",
      "provenance": []
    },
    "kernelspec": {
      "name": "python3",
      "display_name": "Python 3"
    },
    "language_info": {
      "name": "python"
    }
  },
  "cells": [
    {
      "cell_type": "code",
      "metadata": {
        "colab": {
          "base_uri": "https://localhost:8080/"
        },
        "id": "GC_6PeobwwkH",
        "outputId": "7c724580-ad44-4824-a253-f0b56047c677"
      },
      "source": [
        "import torch\n",
        "from torch.autograd import Variable\n",
        "import torch.nn as nn\n",
        "import torch.nn.functional as F\n",
        "import torch.optim as optim\n",
        "import numpy as np\n",
        "import matplotlib.pyplot as plt\n",
        "%matplotlib inline\n",
        "torch.manual_seed(2)"
      ],
      "execution_count": 54,
      "outputs": [
        {
          "output_type": "execute_result",
          "data": {
            "text/plain": [
              "<torch._C.Generator at 0x7fd859d328d0>"
            ]
          },
          "metadata": {},
          "execution_count": 54
        }
      ]
    },
    {
      "cell_type": "code",
      "metadata": {
        "id": "bL64bMTkw2GP"
      },
      "source": [
        "X = torch.Tensor([[0,0], [0,1], [1,0], [1,1]])\n",
        "Y = torch.Tensor([0, 1, 1, 0]).view(-1,1)"
      ],
      "execution_count": 55,
      "outputs": []
    },
    {
      "cell_type": "code",
      "metadata": {
        "id": "aC82kEAIw3Wf"
      },
      "source": [
        "class XOR(nn.Module):\n",
        "    def __init__(self, input_dim = 2, output_dim=1):\n",
        "        super(XOR, self).__init__()\n",
        "        self.lin1 = nn.Linear(input_dim, 8,bias=False)\n",
        "        self.lin2 = nn.Linear(8, 3,bias = False)\n",
        "        self.lin3 = nn.Linear(3,output_dim)\n",
        "    \n",
        "    def forward(self, x):\n",
        "        x = self.lin1(x)\n",
        "        x = F.tanh(x)\n",
        "        x = self.lin2(x)\n",
        "        x = self.lin3(x)\n",
        "        return x"
      ],
      "execution_count": 56,
      "outputs": []
    },
    {
      "cell_type": "code",
      "metadata": {
        "colab": {
          "base_uri": "https://localhost:8080/"
        },
        "id": "8gQIQExYw65K",
        "outputId": "13d3bba2-a521-49b8-c025-43093c7a8551"
      },
      "source": [
        "model = XOR()\n",
        "print(model)\n",
        "from torchsummary import summary\n",
        "summary(model, (2,2))"
      ],
      "execution_count": 57,
      "outputs": [
        {
          "output_type": "stream",
          "name": "stdout",
          "text": [
            "XOR(\n",
            "  (lin1): Linear(in_features=2, out_features=8, bias=False)\n",
            "  (lin2): Linear(in_features=8, out_features=3, bias=False)\n",
            "  (lin3): Linear(in_features=3, out_features=1, bias=True)\n",
            ")\n",
            "----------------------------------------------------------------\n",
            "        Layer (type)               Output Shape         Param #\n",
            "================================================================\n",
            "            Linear-1                 [-1, 2, 8]              16\n",
            "            Linear-2                 [-1, 2, 3]              24\n",
            "            Linear-3                 [-1, 2, 1]               4\n",
            "================================================================\n",
            "Total params: 44\n",
            "Trainable params: 44\n",
            "Non-trainable params: 0\n",
            "----------------------------------------------------------------\n",
            "Input size (MB): 0.00\n",
            "Forward/backward pass size (MB): 0.00\n",
            "Params size (MB): 0.00\n",
            "Estimated Total Size (MB): 0.00\n",
            "----------------------------------------------------------------\n"
          ]
        },
        {
          "output_type": "stream",
          "name": "stderr",
          "text": [
            "/usr/local/lib/python3.7/dist-packages/torch/nn/functional.py:1794: UserWarning: nn.functional.tanh is deprecated. Use torch.tanh instead.\n",
            "  warnings.warn(\"nn.functional.tanh is deprecated. Use torch.tanh instead.\")\n"
          ]
        }
      ]
    },
    {
      "cell_type": "code",
      "metadata": {
        "id": "yeotEq19x6XF"
      },
      "source": [
        "def weights_init(model):\n",
        "    for m in model.modules():\n",
        "        if isinstance(m, nn.Linear):\n",
        "            # initialize the weight tensor, here we use a normal distribution\n",
        "            m.weight.data.normal_(0, 1)\n",
        "\n",
        "weights_init(model)"
      ],
      "execution_count": 58,
      "outputs": []
    },
    {
      "cell_type": "code",
      "metadata": {
        "id": "WrD_sNzLx78e"
      },
      "source": [
        "loss_func = nn.L1Loss()"
      ],
      "execution_count": 59,
      "outputs": []
    },
    {
      "cell_type": "code",
      "metadata": {
        "id": "-zvbrMd2x_lA"
      },
      "source": [
        "optimizer = optim.SGD(model.parameters(), lr=0.02, momentum=0.9)\n"
      ],
      "execution_count": 60,
      "outputs": []
    },
    {
      "cell_type": "code",
      "metadata": {
        "colab": {
          "base_uri": "https://localhost:8080/"
        },
        "id": "q7tWa3D7yA5X",
        "outputId": "d1940094-8134-4bc2-a142-23f00e5fef79"
      },
      "source": [
        "epochs = 2001\n",
        "steps = X.size(0)\n",
        "for i in range(epochs):\n",
        "    for j in range(steps):\n",
        "        data_point = np.random.randint(X.size(0))\n",
        "        x_var = Variable(X[data_point], requires_grad=False)\n",
        "        y_var = Variable(Y[data_point], requires_grad=False)\n",
        "        \n",
        "        optimizer.zero_grad()\n",
        "        y_hat = model(x_var)\n",
        "        loss = loss_func.forward(y_hat, y_var)\n",
        "        loss.backward()\n",
        "        optimizer.step()\n",
        "        \n",
        "    if i % 50 == 0:\n",
        "        print( \"Epoch: {0}, Loss: {1}, \".format(i, loss.data.numpy()))"
      ],
      "execution_count": 61,
      "outputs": [
        {
          "output_type": "stream",
          "name": "stdout",
          "text": [
            "Epoch: 0, Loss: 0.4474027156829834, \n",
            "Epoch: 50, Loss: 0.33055976033210754, \n"
          ]
        },
        {
          "output_type": "stream",
          "name": "stderr",
          "text": [
            "/usr/local/lib/python3.7/dist-packages/torch/nn/functional.py:1794: UserWarning: nn.functional.tanh is deprecated. Use torch.tanh instead.\n",
            "  warnings.warn(\"nn.functional.tanh is deprecated. Use torch.tanh instead.\")\n"
          ]
        },
        {
          "output_type": "stream",
          "name": "stdout",
          "text": [
            "Epoch: 100, Loss: 0.06828172504901886, \n",
            "Epoch: 150, Loss: 0.22528618574142456, \n",
            "Epoch: 200, Loss: 0.08116930723190308, \n",
            "Epoch: 250, Loss: 0.5890331268310547, \n",
            "Epoch: 300, Loss: 0.24767804145812988, \n",
            "Epoch: 350, Loss: 0.4330029785633087, \n",
            "Epoch: 400, Loss: 0.06550095230340958, \n",
            "Epoch: 450, Loss: 0.09466028213500977, \n",
            "Epoch: 500, Loss: 0.5736622214317322, \n",
            "Epoch: 550, Loss: 0.2003406286239624, \n",
            "Epoch: 600, Loss: 0.12449368089437485, \n",
            "Epoch: 650, Loss: 0.004082858562469482, \n",
            "Epoch: 700, Loss: 0.0895380973815918, \n",
            "Epoch: 750, Loss: 0.8503694534301758, \n",
            "Epoch: 800, Loss: 0.18739986419677734, \n",
            "Epoch: 850, Loss: 0.42960089445114136, \n",
            "Epoch: 900, Loss: 0.40175801515579224, \n",
            "Epoch: 950, Loss: 0.16822481155395508, \n",
            "Epoch: 1000, Loss: 0.12096238136291504, \n",
            "Epoch: 1050, Loss: 0.26492980122566223, \n",
            "Epoch: 1100, Loss: 0.10713517665863037, \n",
            "Epoch: 1150, Loss: 0.37911227345466614, \n",
            "Epoch: 1200, Loss: 0.46832358837127686, \n",
            "Epoch: 1250, Loss: 0.004485726356506348, \n",
            "Epoch: 1300, Loss: 0.11358380317687988, \n",
            "Epoch: 1350, Loss: 0.24538972973823547, \n",
            "Epoch: 1400, Loss: 0.2330729067325592, \n",
            "Epoch: 1450, Loss: 0.0058572362177073956, \n",
            "Epoch: 1500, Loss: 0.3545132279396057, \n",
            "Epoch: 1550, Loss: 0.3534606695175171, \n",
            "Epoch: 1600, Loss: 0.14314010739326477, \n",
            "Epoch: 1650, Loss: 0.34350529313087463, \n",
            "Epoch: 1700, Loss: 0.015194141305983067, \n",
            "Epoch: 1750, Loss: 0.07573533803224564, \n",
            "Epoch: 1800, Loss: 0.030456220731139183, \n",
            "Epoch: 1850, Loss: 0.4057319462299347, \n",
            "Epoch: 1900, Loss: 0.5641786456108093, \n",
            "Epoch: 1950, Loss: 0.15132148563861847, \n",
            "Epoch: 2000, Loss: 0.02768855169415474, \n"
          ]
        }
      ]
    },
    {
      "cell_type": "code",
      "metadata": {
        "id": "QV0dIdveyCRi"
      },
      "source": [
        ""
      ],
      "execution_count": 61,
      "outputs": []
    }
  ]
}